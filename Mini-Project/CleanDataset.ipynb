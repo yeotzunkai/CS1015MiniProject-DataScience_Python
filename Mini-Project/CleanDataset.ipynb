{
 "cells": [
  {
   "cell_type": "code",
   "execution_count": 1,
   "id": "e9c1beba",
   "metadata": {},
   "outputs": [],
   "source": [
    "import numpy as np\n",
    "import pandas as pd\n",
    "import seaborn as sb\n",
    "import matplotlib.pyplot as plt"
   ]
  },
  {
   "cell_type": "markdown",
   "id": "9fb2ac33",
   "metadata": {},
   "source": [
    "### This file contains functions that clean the dataset"
   ]
  },
  {
   "cell_type": "code",
   "execution_count": 3,
   "id": "13bb228d",
   "metadata": {},
   "outputs": [],
   "source": [
    "def RemoveNullNumData(Data):\n",
    "    df_to_clean = Data.copy()\n",
    "    df_to_clean.isnull().sum()\n",
    "    index = df_to_clean.isnull().sum()>0\n",
    "    print(\"The feature which contain missing values are\\n\",[Data.columns[index][i] for i in range(sum(index))])\n",
    "    df_drop_rows_with_na = df_to_clean.dropna()\n",
    "    x = (Data.shape[0] - df_drop_rows_with_na.shape[0]) / Data.shape[0]\n",
    "    print(\"Amount of rows removed with null values: \"+\"{:.2%}\".format(x));\n",
    "    return df_drop_rows_with_na"
   ]
  },
  {
   "cell_type": "code",
   "execution_count": null,
   "id": "7862e17f",
   "metadata": {},
   "outputs": [],
   "source": [
    "def "
   ]
  }
 ],
 "metadata": {
  "kernelspec": {
   "display_name": "Python 3 (ipykernel)",
   "language": "python",
   "name": "python3"
  },
  "language_info": {
   "codemirror_mode": {
    "name": "ipython",
    "version": 3
   },
   "file_extension": ".py",
   "mimetype": "text/x-python",
   "name": "python",
   "nbconvert_exporter": "python",
   "pygments_lexer": "ipython3",
   "version": "3.9.7"
  }
 },
 "nbformat": 4,
 "nbformat_minor": 5
}
