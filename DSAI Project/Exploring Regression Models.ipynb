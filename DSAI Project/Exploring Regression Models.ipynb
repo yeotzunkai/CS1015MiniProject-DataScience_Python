{
 "cells": [
  {
   "cell_type": "code",
   "execution_count": 1,
   "id": "2b525a50",
   "metadata": {},
   "outputs": [],
   "source": [
    "import numpy as np\n",
    "import pandas as pd\n",
    "import seaborn as sb\n",
    "import matplotlib.pyplot as plt \n",
    "sb.set()\n",
    "from dython import nominal\n",
    "from dython import nominal"
   ]
  },
  {
   "cell_type": "code",
   "execution_count": 3,
   "id": "5d666553",
   "metadata": {},
   "outputs": [],
   "source": [
    "data = pd.read_csv('model_dat.csv')"
   ]
  },
  {
   "cell_type": "code",
   "execution_count": 4,
   "id": "dd84de9a",
   "metadata": {},
   "outputs": [
    {
     "name": "stdout",
     "output_type": "stream",
     "text": [
      "<class 'pandas.core.frame.DataFrame'>\n",
      "RangeIndex: 9846 entries, 0 to 9845\n",
      "Data columns (total 6 columns):\n",
      " #   Column            Non-Null Count  Dtype \n",
      "---  ------            --------------  ----- \n",
      " 0   Brand             9846 non-null   object\n",
      " 1   Year              9846 non-null   int64 \n",
      " 2   Horsepower        9846 non-null   int64 \n",
      " 3   Engine Cylinders  9846 non-null   int64 \n",
      " 4   Number of Doors   9846 non-null   int64 \n",
      " 5   Price             9846 non-null   int64 \n",
      "dtypes: int64(5), object(1)\n",
      "memory usage: 461.7+ KB\n"
     ]
    }
   ],
   "source": [
    "data.info()"
   ]
  },
  {
   "cell_type": "code",
   "execution_count": 5,
   "id": "06f4e569",
   "metadata": {},
   "outputs": [],
   "source": [
    "from sklearn.linear_model import LinearRegression, Ridge, Lasso\n",
    "from sklearn.neighbors import KNeighborsRegressor\n",
    "from sklearn.tree import DecisionTreeRegressor\n",
    "from sklearn.ensemble import RandomForestRegressor, GradientBoostingRegressor"
   ]
  },
  {
   "cell_type": "code",
   "execution_count": 6,
   "id": "d3c863f0",
   "metadata": {},
   "outputs": [],
   "source": [
    "def model(TargetVariable , Predictors):\n",
    "\n",
    "    X=data[Predictors].values\n",
    "    y=data[TargetVariable].values\n",
    "\n",
    "    # Split the data into training and testing set\n",
    "    from sklearn.model_selection import train_test_split\n",
    "    X_train, X_test, y_train, y_test = train_test_split(X, y, test_size=0.2)\n",
    "\n",
    "    training_models = {\n",
    "        \"                     Linear Regression\": LinearRegression(),\n",
    "        \" Linear Regression (L2 Regularization)\": Ridge(),\n",
    "        \" Linear Regression (L1 Regularization)\": Lasso(),\n",
    "        \"                   K-Nearest Neighbors\": KNeighborsRegressor(),\n",
    "        \"                         Decision Tree\": DecisionTreeRegressor(),\n",
    "        \"                         Random Forest\": RandomForestRegressor(),\n",
    "        \"                     Gradient Boosting\": GradientBoostingRegressor()\n",
    "    }\n",
    "\n",
    "    for name, training_model in training_models.items():\n",
    "        training_model.fit(X_train, y_train)\n",
    "        print(name + \" trained.\")\n",
    "    print(\"\\n\")\n",
    "    for name, training_model in training_models.items():\n",
    "        print(name + \" R^2 Score: {:.5f}\".format(training_model.score(X_test, y_test)))"
   ]
  },
  {
   "cell_type": "code",
   "execution_count": 7,
   "id": "c15bdda1",
   "metadata": {},
   "outputs": [
    {
     "name": "stdout",
     "output_type": "stream",
     "text": [
      "                     Linear Regression trained.\n",
      " Linear Regression (L2 Regularization) trained.\n",
      " Linear Regression (L1 Regularization) trained.\n",
      "                   K-Nearest Neighbors trained.\n",
      "                         Decision Tree trained.\n",
      "                         Random Forest trained.\n",
      "                     Gradient Boosting trained.\n",
      "\n",
      "\n",
      "                     Linear Regression R^2 Score: 0.46411\n",
      " Linear Regression (L2 Regularization) R^2 Score: 0.46411\n",
      " Linear Regression (L1 Regularization) R^2 Score: 0.46411\n",
      "                   K-Nearest Neighbors R^2 Score: 0.43951\n",
      "                         Decision Tree R^2 Score: 0.51092\n",
      "                         Random Forest R^2 Score: 0.51087\n",
      "                     Gradient Boosting R^2 Score: 0.51093\n"
     ]
    }
   ],
   "source": [
    "model(TargetVariable='Price',Predictors=['Year'])"
   ]
  },
  {
   "cell_type": "code",
   "execution_count": 8,
   "id": "059f2ae7",
   "metadata": {},
   "outputs": [
    {
     "name": "stdout",
     "output_type": "stream",
     "text": [
      "                     Linear Regression trained.\n",
      " Linear Regression (L2 Regularization) trained.\n",
      " Linear Regression (L1 Regularization) trained.\n",
      "                   K-Nearest Neighbors trained.\n",
      "                         Decision Tree trained.\n",
      "                         Random Forest trained.\n",
      "                     Gradient Boosting trained.\n",
      "\n",
      "\n",
      "                     Linear Regression R^2 Score: 0.55160\n",
      " Linear Regression (L2 Regularization) R^2 Score: 0.55160\n",
      " Linear Regression (L1 Regularization) R^2 Score: 0.55160\n",
      "                   K-Nearest Neighbors R^2 Score: 0.57304\n",
      "                         Decision Tree R^2 Score: 0.66803\n",
      "                         Random Forest R^2 Score: 0.66643\n",
      "                     Gradient Boosting R^2 Score: 0.62789\n"
     ]
    }
   ],
   "source": [
    "model(TargetVariable='Price',Predictors=['Horsepower'])"
   ]
  },
  {
   "cell_type": "code",
   "execution_count": null,
   "id": "b6321a78",
   "metadata": {},
   "outputs": [],
   "source": []
  }
 ],
 "metadata": {
  "kernelspec": {
   "display_name": "Python 3 (ipykernel)",
   "language": "python",
   "name": "python3"
  },
  "language_info": {
   "codemirror_mode": {
    "name": "ipython",
    "version": 3
   },
   "file_extension": ".py",
   "mimetype": "text/x-python",
   "name": "python",
   "nbconvert_exporter": "python",
   "pygments_lexer": "ipython3",
   "version": "3.9.7"
  }
 },
 "nbformat": 4,
 "nbformat_minor": 5
}
