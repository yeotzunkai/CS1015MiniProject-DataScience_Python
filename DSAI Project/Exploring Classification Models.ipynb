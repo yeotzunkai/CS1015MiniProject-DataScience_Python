{
 "cells": [
  {
   "cell_type": "code",
   "execution_count": 1,
   "id": "af040e30",
   "metadata": {},
   "outputs": [],
   "source": [
    "import numpy as np\n",
    "import pandas as pd\n",
    "import seaborn as sb\n",
    "import matplotlib.pyplot as plt \n",
    "sb.set()\n",
    "from dython import nominal"
   ]
  },
  {
   "cell_type": "code",
   "execution_count": 2,
   "id": "a9a24481",
   "metadata": {},
   "outputs": [],
   "source": [
    "data = pd.read_csv('model_dat.csv')"
   ]
  },
  {
   "cell_type": "code",
   "execution_count": 3,
   "id": "91dc6918",
   "metadata": {},
   "outputs": [
    {
     "name": "stdout",
     "output_type": "stream",
     "text": [
      "<class 'pandas.core.frame.DataFrame'>\n",
      "RangeIndex: 9846 entries, 0 to 9845\n",
      "Data columns (total 6 columns):\n",
      " #   Column            Non-Null Count  Dtype \n",
      "---  ------            --------------  ----- \n",
      " 0   Brand             9846 non-null   object\n",
      " 1   Year              9846 non-null   int64 \n",
      " 2   Horsepower        9846 non-null   int64 \n",
      " 3   Engine Cylinders  9846 non-null   int64 \n",
      " 4   Number of Doors   9846 non-null   int64 \n",
      " 5   Price             9846 non-null   int64 \n",
      "dtypes: int64(5), object(1)\n",
      "memory usage: 461.7+ KB\n"
     ]
    }
   ],
   "source": [
    "data.info()"
   ]
  },
  {
   "cell_type": "code",
   "execution_count": 4,
   "id": "813b8ef2",
   "metadata": {},
   "outputs": [],
   "source": [
    "from sklearn.neighbors import KNeighborsClassifier\n",
    "from sklearn.tree import  DecisionTreeClassifier\n",
    "from sklearn.ensemble import  RandomForestClassifier\n",
    "from sklearn.naive_bayes import GaussianNB\n",
    "from sklearn.discriminant_analysis import LinearDiscriminantAnalysis\n",
    "from sklearn.metrics import accuracy_score"
   ]
  },
  {
   "cell_type": "code",
   "execution_count": 16,
   "id": "3a97a309",
   "metadata": {},
   "outputs": [],
   "source": [
    "def model_categorical(TargetVariable , Predictors):   \n",
    "    X=data[Predictors].values\n",
    "    y=data[TargetVariable].values\n",
    "\n",
    "    # Split the data into training and testing set\n",
    "    from sklearn.model_selection import train_test_split\n",
    "    X_train, X_test, y_train, y_test = train_test_split(X, y, test_size=0.2)\n",
    "\n",
    "    training_models = {\n",
    "        \"                           Naive Bayes\": GaussianNB(),\n",
    "        \"        Linear Discrimination Analysis\": LinearDiscriminantAnalysis(),\n",
    "        \"                   K-Nearest Neighbors\": KNeighborsClassifier(),\n",
    "        \"                         Decision Tree\": DecisionTreeClassifier(),\n",
    "        \"                         Random Forest\": RandomForestClassifier(),\n",
    "    }\n",
    "\n",
    "    for name, training_model in training_models.items():\n",
    "        training_model.fit(X_train, y_train.ravel())\n",
    "        print(name + \" trained.\")\n",
    "    print(\"\\n\")\n",
    "    for name, training_model in training_models.items():\n",
    "        print(name + \" R^2 Score: {:.5f}\".format(training_model.score(X_test, y_test)))"
   ]
  },
  {
   "cell_type": "code",
   "execution_count": 17,
   "id": "cba415ed",
   "metadata": {},
   "outputs": [
    {
     "name": "stdout",
     "output_type": "stream",
     "text": [
      "                           Naive Bayes trained.\n",
      "        Linear Discrimination Analysis trained.\n",
      "                   K-Nearest Neighbors trained.\n",
      "                         Decision Tree trained.\n",
      "                         Random Forest trained.\n",
      "\n",
      "\n",
      "                           Naive Bayes R^2 Score: 0.00305\n",
      "        Linear Discrimination Analysis R^2 Score: 0.07563\n",
      "                   K-Nearest Neighbors R^2 Score: 0.00203\n",
      "                         Decision Tree R^2 Score: 0.07563\n",
      "                         Random Forest R^2 Score: 0.07563\n"
     ]
    }
   ],
   "source": [
    "model_categorical('Price' , ['Engine Cylinders'])"
   ]
  },
  {
   "cell_type": "code",
   "execution_count": 18,
   "id": "15048b3f",
   "metadata": {},
   "outputs": [
    {
     "name": "stdout",
     "output_type": "stream",
     "text": [
      "                           Naive Bayes trained.\n",
      "        Linear Discrimination Analysis trained.\n",
      "                   K-Nearest Neighbors trained.\n",
      "                         Decision Tree trained.\n",
      "                         Random Forest trained.\n",
      "\n",
      "\n",
      "                           Naive Bayes R^2 Score: 0.00000\n",
      "        Linear Discrimination Analysis R^2 Score: 0.07970\n",
      "                   K-Nearest Neighbors R^2 Score: 0.07766\n",
      "                         Decision Tree R^2 Score: 0.07970\n",
      "                         Random Forest R^2 Score: 0.07970\n"
     ]
    }
   ],
   "source": [
    "model_categorical('Price' , ['Year'])"
   ]
  },
  {
   "cell_type": "code",
   "execution_count": 19,
   "id": "da2f892b",
   "metadata": {},
   "outputs": [
    {
     "name": "stdout",
     "output_type": "stream",
     "text": [
      "                           Naive Bayes trained.\n",
      "        Linear Discrimination Analysis trained.\n",
      "                   K-Nearest Neighbors trained.\n",
      "                         Decision Tree trained.\n",
      "                         Random Forest trained.\n",
      "\n",
      "\n",
      "                           Naive Bayes R^2 Score: 0.00102\n",
      "        Linear Discrimination Analysis R^2 Score: 0.06853\n",
      "                   K-Nearest Neighbors R^2 Score: 0.02437\n",
      "                         Decision Tree R^2 Score: 0.06853\n",
      "                         Random Forest R^2 Score: 0.06853\n"
     ]
    }
   ],
   "source": [
    "model_categorical('Price' , ['Number of Doors'])"
   ]
  },
  {
   "cell_type": "code",
   "execution_count": null,
   "id": "79c648f8",
   "metadata": {},
   "outputs": [],
   "source": []
  }
 ],
 "metadata": {
  "kernelspec": {
   "display_name": "Python 3 (ipykernel)",
   "language": "python",
   "name": "python3"
  },
  "language_info": {
   "codemirror_mode": {
    "name": "ipython",
    "version": 3
   },
   "file_extension": ".py",
   "mimetype": "text/x-python",
   "name": "python",
   "nbconvert_exporter": "python",
   "pygments_lexer": "ipython3",
   "version": "3.9.7"
  }
 },
 "nbformat": 4,
 "nbformat_minor": 5
}
