{
 "cells": [
  {
   "cell_type": "code",
   "execution_count": 1,
   "id": "2b525a50",
   "metadata": {},
   "outputs": [],
   "source": [
    "import numpy as np\n",
    "import pandas as pd\n",
    "import seaborn as sb\n",
    "import matplotlib.pyplot as plt \n",
    "sb.set()\n",
    "from dython import nominal"
   ]
  },
  {
   "cell_type": "code",
   "execution_count": 2,
   "id": "5d666553",
   "metadata": {},
   "outputs": [],
   "source": [
    "data = pd.read_csv('model_dat.csv')"
   ]
  },
  {
   "cell_type": "code",
   "execution_count": 3,
   "id": "dd84de9a",
   "metadata": {},
   "outputs": [
    {
     "name": "stdout",
     "output_type": "stream",
     "text": [
      "<class 'pandas.core.frame.DataFrame'>\n",
      "RangeIndex: 8619 entries, 0 to 8618\n",
      "Data columns (total 6 columns):\n",
      " #   Column            Non-Null Count  Dtype  \n",
      "---  ------            --------------  -----  \n",
      " 0   Brand             8619 non-null   object \n",
      " 1   Year              8619 non-null   int64  \n",
      " 2   Horsepower        8619 non-null   float64\n",
      " 3   Engine Cylinders  8619 non-null   float64\n",
      " 4   Number of Doors   8619 non-null   float64\n",
      " 5   Price             8619 non-null   int64  \n",
      "dtypes: float64(3), int64(2), object(1)\n",
      "memory usage: 404.1+ KB\n"
     ]
    }
   ],
   "source": [
    "data.info()"
   ]
  },
  {
   "cell_type": "code",
   "execution_count": 4,
   "id": "06f4e569",
   "metadata": {},
   "outputs": [],
   "source": [
    "from sklearn.linear_model import LinearRegression, Ridge, Lasso\n",
    "from sklearn.neighbors import KNeighborsRegressor\n",
    "from sklearn.tree import DecisionTreeRegressor\n",
    "from sklearn.ensemble import RandomForestRegressor, GradientBoostingRegressor"
   ]
  },
  {
   "cell_type": "code",
   "execution_count": 5,
   "id": "d3c863f0",
   "metadata": {},
   "outputs": [],
   "source": [
    "def model(TargetVariable , Predictors):\n",
    "\n",
    "    X=data[Predictors].values\n",
    "    y=data[TargetVariable].values\n",
    "\n",
    "    # Split the data into training and testing set\n",
    "    from sklearn.model_selection import train_test_split\n",
    "    X_train, X_test, y_train, y_test = train_test_split(X, y, test_size=0.2)\n",
    "\n",
    "    training_models = {\n",
    "        \"                     Linear Regression\": LinearRegression(),\n",
    "        \" Linear Regression (L2 Regularization)\": Ridge(),\n",
    "        \" Linear Regression (L1 Regularization)\": Lasso(),\n",
    "        \"                   K-Nearest Neighbors\": KNeighborsRegressor(),\n",
    "        \"                         Decision Tree\": DecisionTreeRegressor(),\n",
    "        \"                         Random Forest\": RandomForestRegressor(),\n",
    "        \"                     Gradient Boosting\": GradientBoostingRegressor()\n",
    "    }\n",
    "\n",
    "    for name, training_model in training_models.items():\n",
    "        training_model.fit(X_train, y_train)\n",
    "        print(name + \" trained.\")\n",
    "    print(\"\\n\")\n",
    "    for name, training_model in training_models.items():\n",
    "        print(name + \" R^2 Score: {:.5f}\".format(training_model.score(X_test, y_test)))"
   ]
  },
  {
   "cell_type": "code",
   "execution_count": 6,
   "id": "c15bdda1",
   "metadata": {},
   "outputs": [
    {
     "name": "stdout",
     "output_type": "stream",
     "text": [
      "                     Linear Regression trained.\n",
      " Linear Regression (L2 Regularization) trained.\n",
      " Linear Regression (L1 Regularization) trained.\n",
      "                   K-Nearest Neighbors trained.\n",
      "                         Decision Tree trained.\n",
      "                         Random Forest trained.\n",
      "                     Gradient Boosting trained.\n",
      "\n",
      "\n",
      "                     Linear Regression R^2 Score: 0.11886\n",
      " Linear Regression (L2 Regularization) R^2 Score: 0.11886\n",
      " Linear Regression (L1 Regularization) R^2 Score: 0.11886\n",
      "                   K-Nearest Neighbors R^2 Score: 0.05631\n",
      "                         Decision Tree R^2 Score: 0.13500\n",
      "                         Random Forest R^2 Score: 0.13500\n",
      "                     Gradient Boosting R^2 Score: 0.13501\n"
     ]
    }
   ],
   "source": [
    "model(TargetVariable='Price',Predictors=['Year'])"
   ]
  },
  {
   "cell_type": "code",
   "execution_count": 7,
   "id": "059f2ae7",
   "metadata": {},
   "outputs": [
    {
     "name": "stdout",
     "output_type": "stream",
     "text": [
      "                     Linear Regression trained.\n",
      " Linear Regression (L2 Regularization) trained.\n",
      " Linear Regression (L1 Regularization) trained.\n",
      "                   K-Nearest Neighbors trained.\n",
      "                         Decision Tree trained.\n",
      "                         Random Forest trained.\n",
      "                     Gradient Boosting trained.\n",
      "\n",
      "\n",
      "                     Linear Regression R^2 Score: 0.59098\n",
      " Linear Regression (L2 Regularization) R^2 Score: 0.59098\n",
      " Linear Regression (L1 Regularization) R^2 Score: 0.59098\n",
      "                   K-Nearest Neighbors R^2 Score: 0.64333\n",
      "                         Decision Tree R^2 Score: 0.71069\n",
      "                         Random Forest R^2 Score: 0.71095\n",
      "                     Gradient Boosting R^2 Score: 0.68708\n"
     ]
    }
   ],
   "source": [
    "model(TargetVariable='Price',Predictors=['Horsepower'])"
   ]
  },
  {
   "cell_type": "code",
   "execution_count": 8,
   "id": "fcf7886a",
   "metadata": {},
   "outputs": [
    {
     "name": "stdout",
     "output_type": "stream",
     "text": [
      "                     Linear Regression trained.\n",
      " Linear Regression (L2 Regularization) trained.\n",
      " Linear Regression (L1 Regularization) trained.\n",
      "                   K-Nearest Neighbors trained.\n",
      "                         Decision Tree trained.\n",
      "                         Random Forest trained.\n",
      "                     Gradient Boosting trained.\n",
      "\n",
      "\n",
      "                     Linear Regression R^2 Score: 0.00087\n",
      " Linear Regression (L2 Regularization) R^2 Score: 0.00087\n",
      " Linear Regression (L1 Regularization) R^2 Score: 0.00087\n",
      "                   K-Nearest Neighbors R^2 Score: -0.00022\n",
      "                         Decision Tree R^2 Score: 0.00439\n",
      "                         Random Forest R^2 Score: 0.00437\n",
      "                     Gradient Boosting R^2 Score: 0.00439\n"
     ]
    }
   ],
   "source": [
    "model(TargetVariable='Price',Predictors=['Number of Doors'])"
   ]
  },
  {
   "cell_type": "code",
   "execution_count": 9,
   "id": "1caea525",
   "metadata": {},
   "outputs": [
    {
     "name": "stdout",
     "output_type": "stream",
     "text": [
      "                     Linear Regression trained.\n",
      " Linear Regression (L2 Regularization) trained.\n",
      " Linear Regression (L1 Regularization) trained.\n",
      "                   K-Nearest Neighbors trained.\n",
      "                         Decision Tree trained.\n",
      "                         Random Forest trained.\n",
      "                     Gradient Boosting trained.\n",
      "\n",
      "\n",
      "                     Linear Regression R^2 Score: 0.23222\n",
      " Linear Regression (L2 Regularization) R^2 Score: 0.23222\n",
      " Linear Regression (L1 Regularization) R^2 Score: 0.23222\n",
      "                   K-Nearest Neighbors R^2 Score: 0.15009\n",
      "                         Decision Tree R^2 Score: 0.23564\n",
      "                         Random Forest R^2 Score: 0.23542\n",
      "                     Gradient Boosting R^2 Score: 0.23564\n"
     ]
    }
   ],
   "source": [
    "model(TargetVariable='Price',Predictors=['Engine Cylinders'])"
   ]
  },
  {
   "cell_type": "code",
   "execution_count": 10,
   "id": "df4784b7",
   "metadata": {},
   "outputs": [
    {
     "name": "stdout",
     "output_type": "stream",
     "text": [
      "                     Linear Regression trained.\n",
      " Linear Regression (L2 Regularization) trained.\n",
      " Linear Regression (L1 Regularization) trained.\n",
      "                   K-Nearest Neighbors trained.\n",
      "                         Decision Tree trained.\n",
      "                         Random Forest trained.\n",
      "                     Gradient Boosting trained.\n",
      "\n",
      "\n",
      "                     Linear Regression R^2 Score: 0.66380\n",
      " Linear Regression (L2 Regularization) R^2 Score: 0.66379\n",
      " Linear Regression (L1 Regularization) R^2 Score: 0.66379\n",
      "                   K-Nearest Neighbors R^2 Score: 0.81168\n",
      "                         Decision Tree R^2 Score: 0.83283\n",
      "                         Random Forest R^2 Score: 0.84273\n",
      "                     Gradient Boosting R^2 Score: 0.76190\n"
     ]
    }
   ],
   "source": [
    "model('Price',['Year', 'Horsepower', 'Engine Cylinders', 'Number of Doors'])"
   ]
  },
  {
   "cell_type": "markdown",
   "id": "71153a15",
   "metadata": {},
   "source": [
    "### Since brand is a categorical nominal variables that contains strings unlike Engine Cylinders and Number of Doors which are Ordinal Variables, we are able to use brand to train the model."
   ]
  },
  {
   "cell_type": "code",
   "execution_count": 11,
   "id": "b6321a78",
   "metadata": {},
   "outputs": [
    {
     "data": {
      "text/html": [
       "<div>\n",
       "<style scoped>\n",
       "    .dataframe tbody tr th:only-of-type {\n",
       "        vertical-align: middle;\n",
       "    }\n",
       "\n",
       "    .dataframe tbody tr th {\n",
       "        vertical-align: top;\n",
       "    }\n",
       "\n",
       "    .dataframe thead th {\n",
       "        text-align: right;\n",
       "    }\n",
       "</style>\n",
       "<table border=\"1\" class=\"dataframe\">\n",
       "  <thead>\n",
       "    <tr style=\"text-align: right;\">\n",
       "      <th></th>\n",
       "      <th>Year</th>\n",
       "      <th>Horsepower</th>\n",
       "      <th>Engine Cylinders</th>\n",
       "      <th>Number of Doors</th>\n",
       "      <th>Price</th>\n",
       "      <th>Brand_Acura</th>\n",
       "      <th>Brand_Alfa Romeo</th>\n",
       "      <th>Brand_Audi</th>\n",
       "      <th>Brand_BMW</th>\n",
       "      <th>Brand_Buick</th>\n",
       "      <th>...</th>\n",
       "      <th>Brand_Plymouth</th>\n",
       "      <th>Brand_Pontiac</th>\n",
       "      <th>Brand_Porsche</th>\n",
       "      <th>Brand_Saab</th>\n",
       "      <th>Brand_Scion</th>\n",
       "      <th>Brand_Subaru</th>\n",
       "      <th>Brand_Suzuki</th>\n",
       "      <th>Brand_Toyota</th>\n",
       "      <th>Brand_Volkswagen</th>\n",
       "      <th>Brand_Volvo</th>\n",
       "    </tr>\n",
       "  </thead>\n",
       "  <tbody>\n",
       "    <tr>\n",
       "      <th>0</th>\n",
       "      <td>2011</td>\n",
       "      <td>335.0</td>\n",
       "      <td>6.0</td>\n",
       "      <td>2.0</td>\n",
       "      <td>46135</td>\n",
       "      <td>0</td>\n",
       "      <td>0</td>\n",
       "      <td>0</td>\n",
       "      <td>1</td>\n",
       "      <td>0</td>\n",
       "      <td>...</td>\n",
       "      <td>0</td>\n",
       "      <td>0</td>\n",
       "      <td>0</td>\n",
       "      <td>0</td>\n",
       "      <td>0</td>\n",
       "      <td>0</td>\n",
       "      <td>0</td>\n",
       "      <td>0</td>\n",
       "      <td>0</td>\n",
       "      <td>0</td>\n",
       "    </tr>\n",
       "    <tr>\n",
       "      <th>1</th>\n",
       "      <td>2011</td>\n",
       "      <td>300.0</td>\n",
       "      <td>6.0</td>\n",
       "      <td>2.0</td>\n",
       "      <td>40650</td>\n",
       "      <td>0</td>\n",
       "      <td>0</td>\n",
       "      <td>0</td>\n",
       "      <td>1</td>\n",
       "      <td>0</td>\n",
       "      <td>...</td>\n",
       "      <td>0</td>\n",
       "      <td>0</td>\n",
       "      <td>0</td>\n",
       "      <td>0</td>\n",
       "      <td>0</td>\n",
       "      <td>0</td>\n",
       "      <td>0</td>\n",
       "      <td>0</td>\n",
       "      <td>0</td>\n",
       "      <td>0</td>\n",
       "    </tr>\n",
       "    <tr>\n",
       "      <th>2</th>\n",
       "      <td>2011</td>\n",
       "      <td>300.0</td>\n",
       "      <td>6.0</td>\n",
       "      <td>2.0</td>\n",
       "      <td>36350</td>\n",
       "      <td>0</td>\n",
       "      <td>0</td>\n",
       "      <td>0</td>\n",
       "      <td>1</td>\n",
       "      <td>0</td>\n",
       "      <td>...</td>\n",
       "      <td>0</td>\n",
       "      <td>0</td>\n",
       "      <td>0</td>\n",
       "      <td>0</td>\n",
       "      <td>0</td>\n",
       "      <td>0</td>\n",
       "      <td>0</td>\n",
       "      <td>0</td>\n",
       "      <td>0</td>\n",
       "      <td>0</td>\n",
       "    </tr>\n",
       "    <tr>\n",
       "      <th>3</th>\n",
       "      <td>2011</td>\n",
       "      <td>230.0</td>\n",
       "      <td>6.0</td>\n",
       "      <td>2.0</td>\n",
       "      <td>29450</td>\n",
       "      <td>0</td>\n",
       "      <td>0</td>\n",
       "      <td>0</td>\n",
       "      <td>1</td>\n",
       "      <td>0</td>\n",
       "      <td>...</td>\n",
       "      <td>0</td>\n",
       "      <td>0</td>\n",
       "      <td>0</td>\n",
       "      <td>0</td>\n",
       "      <td>0</td>\n",
       "      <td>0</td>\n",
       "      <td>0</td>\n",
       "      <td>0</td>\n",
       "      <td>0</td>\n",
       "      <td>0</td>\n",
       "    </tr>\n",
       "    <tr>\n",
       "      <th>4</th>\n",
       "      <td>2011</td>\n",
       "      <td>230.0</td>\n",
       "      <td>6.0</td>\n",
       "      <td>2.0</td>\n",
       "      <td>34500</td>\n",
       "      <td>0</td>\n",
       "      <td>0</td>\n",
       "      <td>0</td>\n",
       "      <td>1</td>\n",
       "      <td>0</td>\n",
       "      <td>...</td>\n",
       "      <td>0</td>\n",
       "      <td>0</td>\n",
       "      <td>0</td>\n",
       "      <td>0</td>\n",
       "      <td>0</td>\n",
       "      <td>0</td>\n",
       "      <td>0</td>\n",
       "      <td>0</td>\n",
       "      <td>0</td>\n",
       "      <td>0</td>\n",
       "    </tr>\n",
       "    <tr>\n",
       "      <th>...</th>\n",
       "      <td>...</td>\n",
       "      <td>...</td>\n",
       "      <td>...</td>\n",
       "      <td>...</td>\n",
       "      <td>...</td>\n",
       "      <td>...</td>\n",
       "      <td>...</td>\n",
       "      <td>...</td>\n",
       "      <td>...</td>\n",
       "      <td>...</td>\n",
       "      <td>...</td>\n",
       "      <td>...</td>\n",
       "      <td>...</td>\n",
       "      <td>...</td>\n",
       "      <td>...</td>\n",
       "      <td>...</td>\n",
       "      <td>...</td>\n",
       "      <td>...</td>\n",
       "      <td>...</td>\n",
       "      <td>...</td>\n",
       "      <td>...</td>\n",
       "    </tr>\n",
       "    <tr>\n",
       "      <th>8614</th>\n",
       "      <td>2012</td>\n",
       "      <td>300.0</td>\n",
       "      <td>6.0</td>\n",
       "      <td>4.0</td>\n",
       "      <td>46120</td>\n",
       "      <td>1</td>\n",
       "      <td>0</td>\n",
       "      <td>0</td>\n",
       "      <td>0</td>\n",
       "      <td>0</td>\n",
       "      <td>...</td>\n",
       "      <td>0</td>\n",
       "      <td>0</td>\n",
       "      <td>0</td>\n",
       "      <td>0</td>\n",
       "      <td>0</td>\n",
       "      <td>0</td>\n",
       "      <td>0</td>\n",
       "      <td>0</td>\n",
       "      <td>0</td>\n",
       "      <td>0</td>\n",
       "    </tr>\n",
       "    <tr>\n",
       "      <th>8615</th>\n",
       "      <td>2012</td>\n",
       "      <td>300.0</td>\n",
       "      <td>6.0</td>\n",
       "      <td>4.0</td>\n",
       "      <td>56670</td>\n",
       "      <td>1</td>\n",
       "      <td>0</td>\n",
       "      <td>0</td>\n",
       "      <td>0</td>\n",
       "      <td>0</td>\n",
       "      <td>...</td>\n",
       "      <td>0</td>\n",
       "      <td>0</td>\n",
       "      <td>0</td>\n",
       "      <td>0</td>\n",
       "      <td>0</td>\n",
       "      <td>0</td>\n",
       "      <td>0</td>\n",
       "      <td>0</td>\n",
       "      <td>0</td>\n",
       "      <td>0</td>\n",
       "    </tr>\n",
       "    <tr>\n",
       "      <th>8616</th>\n",
       "      <td>2012</td>\n",
       "      <td>300.0</td>\n",
       "      <td>6.0</td>\n",
       "      <td>4.0</td>\n",
       "      <td>50620</td>\n",
       "      <td>1</td>\n",
       "      <td>0</td>\n",
       "      <td>0</td>\n",
       "      <td>0</td>\n",
       "      <td>0</td>\n",
       "      <td>...</td>\n",
       "      <td>0</td>\n",
       "      <td>0</td>\n",
       "      <td>0</td>\n",
       "      <td>0</td>\n",
       "      <td>0</td>\n",
       "      <td>0</td>\n",
       "      <td>0</td>\n",
       "      <td>0</td>\n",
       "      <td>0</td>\n",
       "      <td>0</td>\n",
       "    </tr>\n",
       "    <tr>\n",
       "      <th>8617</th>\n",
       "      <td>2013</td>\n",
       "      <td>300.0</td>\n",
       "      <td>6.0</td>\n",
       "      <td>4.0</td>\n",
       "      <td>50920</td>\n",
       "      <td>1</td>\n",
       "      <td>0</td>\n",
       "      <td>0</td>\n",
       "      <td>0</td>\n",
       "      <td>0</td>\n",
       "      <td>...</td>\n",
       "      <td>0</td>\n",
       "      <td>0</td>\n",
       "      <td>0</td>\n",
       "      <td>0</td>\n",
       "      <td>0</td>\n",
       "      <td>0</td>\n",
       "      <td>0</td>\n",
       "      <td>0</td>\n",
       "      <td>0</td>\n",
       "      <td>0</td>\n",
       "    </tr>\n",
       "    <tr>\n",
       "      <th>8618</th>\n",
       "      <td>2006</td>\n",
       "      <td>221.0</td>\n",
       "      <td>6.0</td>\n",
       "      <td>4.0</td>\n",
       "      <td>28995</td>\n",
       "      <td>0</td>\n",
       "      <td>0</td>\n",
       "      <td>0</td>\n",
       "      <td>0</td>\n",
       "      <td>0</td>\n",
       "      <td>...</td>\n",
       "      <td>0</td>\n",
       "      <td>0</td>\n",
       "      <td>0</td>\n",
       "      <td>0</td>\n",
       "      <td>0</td>\n",
       "      <td>0</td>\n",
       "      <td>0</td>\n",
       "      <td>0</td>\n",
       "      <td>0</td>\n",
       "      <td>0</td>\n",
       "    </tr>\n",
       "  </tbody>\n",
       "</table>\n",
       "<p>8619 rows × 43 columns</p>\n",
       "</div>"
      ],
      "text/plain": [
       "      Year  Horsepower  Engine Cylinders  Number of Doors  Price  Brand_Acura  \\\n",
       "0     2011       335.0               6.0              2.0  46135            0   \n",
       "1     2011       300.0               6.0              2.0  40650            0   \n",
       "2     2011       300.0               6.0              2.0  36350            0   \n",
       "3     2011       230.0               6.0              2.0  29450            0   \n",
       "4     2011       230.0               6.0              2.0  34500            0   \n",
       "...    ...         ...               ...              ...    ...          ...   \n",
       "8614  2012       300.0               6.0              4.0  46120            1   \n",
       "8615  2012       300.0               6.0              4.0  56670            1   \n",
       "8616  2012       300.0               6.0              4.0  50620            1   \n",
       "8617  2013       300.0               6.0              4.0  50920            1   \n",
       "8618  2006       221.0               6.0              4.0  28995            0   \n",
       "\n",
       "      Brand_Alfa Romeo  Brand_Audi  Brand_BMW  Brand_Buick  ...  \\\n",
       "0                    0           0          1            0  ...   \n",
       "1                    0           0          1            0  ...   \n",
       "2                    0           0          1            0  ...   \n",
       "3                    0           0          1            0  ...   \n",
       "4                    0           0          1            0  ...   \n",
       "...                ...         ...        ...          ...  ...   \n",
       "8614                 0           0          0            0  ...   \n",
       "8615                 0           0          0            0  ...   \n",
       "8616                 0           0          0            0  ...   \n",
       "8617                 0           0          0            0  ...   \n",
       "8618                 0           0          0            0  ...   \n",
       "\n",
       "      Brand_Plymouth  Brand_Pontiac  Brand_Porsche  Brand_Saab  Brand_Scion  \\\n",
       "0                  0              0              0           0            0   \n",
       "1                  0              0              0           0            0   \n",
       "2                  0              0              0           0            0   \n",
       "3                  0              0              0           0            0   \n",
       "4                  0              0              0           0            0   \n",
       "...              ...            ...            ...         ...          ...   \n",
       "8614               0              0              0           0            0   \n",
       "8615               0              0              0           0            0   \n",
       "8616               0              0              0           0            0   \n",
       "8617               0              0              0           0            0   \n",
       "8618               0              0              0           0            0   \n",
       "\n",
       "      Brand_Subaru  Brand_Suzuki  Brand_Toyota  Brand_Volkswagen  Brand_Volvo  \n",
       "0                0             0             0                 0            0  \n",
       "1                0             0             0                 0            0  \n",
       "2                0             0             0                 0            0  \n",
       "3                0             0             0                 0            0  \n",
       "4                0             0             0                 0            0  \n",
       "...            ...           ...           ...               ...          ...  \n",
       "8614             0             0             0                 0            0  \n",
       "8615             0             0             0                 0            0  \n",
       "8616             0             0             0                 0            0  \n",
       "8617             0             0             0                 0            0  \n",
       "8618             0             0             0                 0            0  \n",
       "\n",
       "[8619 rows x 43 columns]"
      ]
     },
     "execution_count": 11,
     "metadata": {},
     "output_type": "execute_result"
    }
   ],
   "source": [
    "# Treating all the nominal variables at once using dummy variables\n",
    "MLDATA=pd.get_dummies(data)\n",
    "\n",
    "# Printing sample rows\n",
    "MLDATA\n"
   ]
  },
  {
   "cell_type": "markdown",
   "id": "ae072853",
   "metadata": {},
   "source": [
    "## Using get_dummies() function, we are able to convert categorical data into dummy/indicator variables"
   ]
  },
  {
   "cell_type": "code",
   "execution_count": 12,
   "id": "21fb8ed0",
   "metadata": {},
   "outputs": [
    {
     "data": {
      "text/plain": [
       "Index(['Year', 'Horsepower', 'Engine Cylinders', 'Number of Doors', 'Price',\n",
       "       'Brand_Acura', 'Brand_Alfa Romeo', 'Brand_Audi', 'Brand_BMW',\n",
       "       'Brand_Buick', 'Brand_Cadillac', 'Brand_Chevrolet', 'Brand_Chrysler',\n",
       "       'Brand_Dodge', 'Brand_FIAT', 'Brand_Ford', 'Brand_GMC', 'Brand_Genesis',\n",
       "       'Brand_HUMMER', 'Brand_Honda', 'Brand_Hyundai', 'Brand_Infiniti',\n",
       "       'Brand_Kia', 'Brand_Land Rover', 'Brand_Lexus', 'Brand_Lincoln',\n",
       "       'Brand_Lotus', 'Brand_Maserati', 'Brand_Mazda', 'Brand_Mercedes-Benz',\n",
       "       'Brand_Mitsubishi', 'Brand_Nissan', 'Brand_Oldsmobile',\n",
       "       'Brand_Plymouth', 'Brand_Pontiac', 'Brand_Porsche', 'Brand_Saab',\n",
       "       'Brand_Scion', 'Brand_Subaru', 'Brand_Suzuki', 'Brand_Toyota',\n",
       "       'Brand_Volkswagen', 'Brand_Volvo'],\n",
       "      dtype='object')"
      ]
     },
     "execution_count": 12,
     "metadata": {},
     "output_type": "execute_result"
    }
   ],
   "source": [
    "# Printing all the column names for our reference\n",
    "MLDATA.columns"
   ]
  },
  {
   "cell_type": "markdown",
   "id": "80c5c402",
   "metadata": {},
   "source": [
    "## Function is to test features with different training models"
   ]
  },
  {
   "cell_type": "code",
   "execution_count": 13,
   "id": "06d2c723",
   "metadata": {},
   "outputs": [],
   "source": [
    "def model_regression(TargetVariable , Predictors):\n",
    "\n",
    "    X=MLDATA[Predictors].values\n",
    "    y=MLDATA[TargetVariable].values\n",
    "\n",
    "    # Split the data into training and testing set\n",
    "    from sklearn.model_selection import train_test_split\n",
    "    X_train, X_test, y_train, y_test = train_test_split(X, y, test_size=0.2)\n",
    "\n",
    "    training_models = {\n",
    "        \"                     Linear Regression\": LinearRegression(),\n",
    "        \" Linear Regression (L2 Regularization)\": Ridge(),\n",
    "        \" Linear Regression (L1 Regularization)\": Lasso(),\n",
    "        \"                   K-Nearest Neighbors\": KNeighborsRegressor(),\n",
    "        \"                         Decision Tree\": DecisionTreeRegressor(),\n",
    "        \"                         Random Forest\": RandomForestRegressor(),\n",
    "        \"                     Gradient Boosting\": GradientBoostingRegressor()\n",
    "    }\n",
    "\n",
    "    for name, training_model in training_models.items():\n",
    "        training_model.fit(X_train, y_train)\n",
    "        print(name + \" trained.\")\n",
    "    print(\"\\n\")\n",
    "    for name, training_model in training_models.items():\n",
    "        print(name + \" R^2 Score: {:.5f}\".format(training_model.score(X_test, y_test)))"
   ]
  },
  {
   "cell_type": "markdown",
   "id": "cf4d43cd",
   "metadata": {},
   "source": [
    "# Year"
   ]
  },
  {
   "cell_type": "code",
   "execution_count": 14,
   "id": "f85c13d6",
   "metadata": {},
   "outputs": [
    {
     "name": "stdout",
     "output_type": "stream",
     "text": [
      "                     Linear Regression trained.\n",
      " Linear Regression (L2 Regularization) trained.\n",
      " Linear Regression (L1 Regularization) trained.\n",
      "                   K-Nearest Neighbors trained.\n",
      "                         Decision Tree trained.\n",
      "                         Random Forest trained.\n",
      "                     Gradient Boosting trained.\n",
      "\n",
      "\n",
      "                     Linear Regression R^2 Score: 0.13056\n",
      " Linear Regression (L2 Regularization) R^2 Score: 0.13056\n",
      " Linear Regression (L1 Regularization) R^2 Score: 0.13056\n",
      "                   K-Nearest Neighbors R^2 Score: -0.00517\n",
      "                         Decision Tree R^2 Score: 0.14977\n",
      "                         Random Forest R^2 Score: 0.14968\n",
      "                     Gradient Boosting R^2 Score: 0.14978\n"
     ]
    }
   ],
   "source": [
    "model_regression('Price',['Year'])"
   ]
  },
  {
   "cell_type": "markdown",
   "id": "96f8d74a",
   "metadata": {},
   "source": [
    "# Horsepower"
   ]
  },
  {
   "cell_type": "code",
   "execution_count": 15,
   "id": "d794041b",
   "metadata": {},
   "outputs": [
    {
     "name": "stdout",
     "output_type": "stream",
     "text": [
      "                     Linear Regression trained.\n",
      " Linear Regression (L2 Regularization) trained.\n",
      " Linear Regression (L1 Regularization) trained.\n",
      "                   K-Nearest Neighbors trained.\n",
      "                         Decision Tree trained.\n",
      "                         Random Forest trained.\n",
      "                     Gradient Boosting trained.\n",
      "\n",
      "\n",
      "                     Linear Regression R^2 Score: 0.59623\n",
      " Linear Regression (L2 Regularization) R^2 Score: 0.59623\n",
      " Linear Regression (L1 Regularization) R^2 Score: 0.59623\n",
      "                   K-Nearest Neighbors R^2 Score: 0.66712\n",
      "                         Decision Tree R^2 Score: 0.71287\n",
      "                         Random Forest R^2 Score: 0.71141\n",
      "                     Gradient Boosting R^2 Score: 0.68545\n"
     ]
    }
   ],
   "source": [
    "model_regression('Price',['Horsepower'])"
   ]
  },
  {
   "cell_type": "markdown",
   "id": "f53ef013",
   "metadata": {},
   "source": [
    "# Number of Doors"
   ]
  },
  {
   "cell_type": "code",
   "execution_count": 16,
   "id": "d63b7e42",
   "metadata": {},
   "outputs": [
    {
     "name": "stdout",
     "output_type": "stream",
     "text": [
      "                     Linear Regression trained.\n",
      " Linear Regression (L2 Regularization) trained.\n",
      " Linear Regression (L1 Regularization) trained.\n",
      "                   K-Nearest Neighbors trained.\n",
      "                         Decision Tree trained.\n",
      "                         Random Forest trained.\n",
      "                     Gradient Boosting trained.\n",
      "\n",
      "\n",
      "                     Linear Regression R^2 Score: -0.00171\n",
      " Linear Regression (L2 Regularization) R^2 Score: -0.00171\n",
      " Linear Regression (L1 Regularization) R^2 Score: -0.00171\n",
      "                   K-Nearest Neighbors R^2 Score: -0.24915\n",
      "                         Decision Tree R^2 Score: 0.00003\n",
      "                         Random Forest R^2 Score: -0.00001\n",
      "                     Gradient Boosting R^2 Score: 0.00003\n"
     ]
    }
   ],
   "source": [
    "model_regression('Price',['Number of Doors'])"
   ]
  },
  {
   "cell_type": "markdown",
   "id": "b74beb25",
   "metadata": {},
   "source": [
    "# Engine Cylinders"
   ]
  },
  {
   "cell_type": "code",
   "execution_count": 17,
   "id": "dee904d1",
   "metadata": {},
   "outputs": [
    {
     "name": "stdout",
     "output_type": "stream",
     "text": [
      "                     Linear Regression trained.\n",
      " Linear Regression (L2 Regularization) trained.\n",
      " Linear Regression (L1 Regularization) trained.\n",
      "                   K-Nearest Neighbors trained.\n",
      "                         Decision Tree trained.\n",
      "                         Random Forest trained.\n",
      "                     Gradient Boosting trained.\n",
      "\n",
      "\n",
      "                     Linear Regression R^2 Score: 0.22669\n",
      " Linear Regression (L2 Regularization) R^2 Score: 0.22669\n",
      " Linear Regression (L1 Regularization) R^2 Score: 0.22669\n",
      "                   K-Nearest Neighbors R^2 Score: 0.17325\n",
      "                         Decision Tree R^2 Score: 0.22443\n",
      "                         Random Forest R^2 Score: 0.22433\n",
      "                     Gradient Boosting R^2 Score: 0.22443\n"
     ]
    }
   ],
   "source": [
    "model_regression('Price',['Engine Cylinders'])"
   ]
  },
  {
   "cell_type": "markdown",
   "id": "d0a8197e",
   "metadata": {},
   "source": [
    "# Brand"
   ]
  },
  {
   "cell_type": "code",
   "execution_count": 18,
   "id": "0af9b669",
   "metadata": {},
   "outputs": [
    {
     "name": "stdout",
     "output_type": "stream",
     "text": [
      "                     Linear Regression trained.\n",
      " Linear Regression (L2 Regularization) trained.\n",
      " Linear Regression (L1 Regularization) trained.\n",
      "                   K-Nearest Neighbors trained.\n",
      "                         Decision Tree trained.\n",
      "                         Random Forest trained.\n",
      "                     Gradient Boosting trained.\n",
      "\n",
      "\n",
      "                     Linear Regression R^2 Score: 0.42856\n",
      " Linear Regression (L2 Regularization) R^2 Score: 0.42808\n",
      " Linear Regression (L1 Regularization) R^2 Score: 0.42848\n",
      "                   K-Nearest Neighbors R^2 Score: 0.33461\n",
      "                         Decision Tree R^2 Score: 0.42849\n",
      "                         Random Forest R^2 Score: 0.42849\n",
      "                     Gradient Boosting R^2 Score: 0.39824\n"
     ]
    }
   ],
   "source": [
    "model_regression('Price',['Brand_Acura', 'Brand_Alfa Romeo', 'Brand_Audi', 'Brand_BMW',\n",
    "       'Brand_Buick', 'Brand_Cadillac', 'Brand_Chevrolet', 'Brand_Chrysler',\n",
    "       'Brand_Dodge', 'Brand_FIAT', 'Brand_Ford', 'Brand_GMC', 'Brand_Genesis',\n",
    "       'Brand_HUMMER', 'Brand_Honda', 'Brand_Hyundai', 'Brand_Infiniti',\n",
    "       'Brand_Kia', 'Brand_Land Rover', 'Brand_Lexus', 'Brand_Lincoln',\n",
    "       'Brand_Lotus', 'Brand_Maserati', 'Brand_Mazda', 'Brand_Mercedes-Benz',\n",
    "       'Brand_Mitsubishi', 'Brand_Nissan', 'Brand_Oldsmobile',\n",
    "       'Brand_Plymouth', 'Brand_Pontiac', 'Brand_Porsche', 'Brand_Saab',\n",
    "       'Brand_Scion', 'Brand_Subaru', 'Brand_Suzuki', 'Brand_Toyota',\n",
    "       'Brand_Volkswagen', 'Brand_Volvo'])"
   ]
  },
  {
   "cell_type": "markdown",
   "id": "05b24087",
   "metadata": {},
   "source": [
    "# Combining all features to train model"
   ]
  },
  {
   "cell_type": "markdown",
   "id": "02e772c3",
   "metadata": {},
   "source": [
    "# Clean Dataset"
   ]
  },
  {
   "cell_type": "code",
   "execution_count": 19,
   "id": "d15e0db0",
   "metadata": {},
   "outputs": [
    {
     "name": "stdout",
     "output_type": "stream",
     "text": [
      "                     Linear Regression trained.\n",
      " Linear Regression (L2 Regularization) trained.\n",
      " Linear Regression (L1 Regularization) trained.\n",
      "                   K-Nearest Neighbors trained.\n",
      "                         Decision Tree trained.\n",
      "                         Random Forest trained.\n",
      "                     Gradient Boosting trained.\n",
      "\n",
      "\n",
      "                     Linear Regression R^2 Score: 0.77012\n",
      " Linear Regression (L2 Regularization) R^2 Score: 0.76916\n",
      " Linear Regression (L1 Regularization) R^2 Score: 0.76981\n",
      "                   K-Nearest Neighbors R^2 Score: 0.83920\n",
      "                         Decision Tree R^2 Score: 0.87757\n",
      "                         Random Forest R^2 Score: 0.89316\n",
      "                     Gradient Boosting R^2 Score: 0.81901\n"
     ]
    }
   ],
   "source": [
    "model_regression('Price',['Year', 'Horsepower', 'Engine Cylinders', 'Number of Doors',\n",
    "       'Brand_Acura', 'Brand_Alfa Romeo', 'Brand_Audi', 'Brand_BMW',\n",
    "       'Brand_Buick', 'Brand_Cadillac', 'Brand_Chevrolet', 'Brand_Chrysler',\n",
    "       'Brand_Dodge', 'Brand_FIAT', 'Brand_Ford', 'Brand_GMC', 'Brand_Genesis',\n",
    "       'Brand_HUMMER', 'Brand_Honda', 'Brand_Hyundai', 'Brand_Infiniti',\n",
    "       'Brand_Kia', 'Brand_Land Rover', 'Brand_Lexus', 'Brand_Lincoln',\n",
    "       'Brand_Lotus', 'Brand_Maserati', 'Brand_Mazda', 'Brand_Mercedes-Benz',\n",
    "       'Brand_Mitsubishi', 'Brand_Nissan', 'Brand_Oldsmobile',\n",
    "       'Brand_Plymouth', 'Brand_Pontiac', 'Brand_Porsche', 'Brand_Saab',\n",
    "       'Brand_Scion', 'Brand_Subaru', 'Brand_Suzuki', 'Brand_Toyota',\n",
    "       'Brand_Volkswagen', 'Brand_Volvo'])"
   ]
  },
  {
   "cell_type": "markdown",
   "id": "a0f678fb",
   "metadata": {},
   "source": [
    "# Unclean Dataset"
   ]
  },
  {
   "cell_type": "code",
   "execution_count": 20,
   "id": "3cb0dbb7",
   "metadata": {},
   "outputs": [
    {
     "name": "stdout",
     "output_type": "stream",
     "text": [
      "                     Linear Regression trained.\n",
      " Linear Regression (L2 Regularization) trained.\n",
      " Linear Regression (L1 Regularization) trained.\n",
      "                   K-Nearest Neighbors trained.\n",
      "                         Decision Tree trained.\n",
      "                         Random Forest trained.\n",
      "                     Gradient Boosting trained.\n",
      "\n",
      "\n",
      "                     Linear Regression R^2 Score: 0.57629\n",
      " Linear Regression (L2 Regularization) R^2 Score: 0.56790\n",
      " Linear Regression (L1 Regularization) R^2 Score: 0.57600\n",
      "                   K-Nearest Neighbors R^2 Score: 0.73776\n",
      "                         Decision Tree R^2 Score: 0.72970\n",
      "                         Random Forest R^2 Score: 0.78771\n",
      "                     Gradient Boosting R^2 Score: 0.74927\n"
     ]
    }
   ],
   "source": [
    "uncleaned = pd.read_csv('data.csv')\n",
    "#Remove columns that are not selected.\n",
    "\n",
    "uncleaned = uncleaned.drop(columns =[\"Model\",\"Transmission Type\",\"Driven_Wheels\",\"Market Category\",\"Vehicle Size\",\"Vehicle Style\", \"Engine Fuel Type\",\"Popularity\"])\n",
    "uncleaned = uncleaned.dropna(subset = [\"Engine HP\",\"Engine Cylinders\", \"Number of Doors\"])\n",
    "MLDATA=pd.get_dummies(uncleaned)\n",
    "model_regression('MSRP',['Year', 'Engine HP', 'Engine Cylinders', 'Number of Doors',\n",
    "       'Make_Acura', 'Make_Alfa Romeo', 'Make_Audi', 'Make_BMW',\n",
    "       'Make_Buick', 'Make_Cadillac', 'Make_Chevrolet', 'Make_Chrysler',\n",
    "       'Make_Dodge', 'Make_FIAT', 'Make_Ford', 'Make_GMC', 'Make_Genesis',\n",
    "       'Make_HUMMER', 'Make_Honda', 'Make_Hyundai', 'Make_Infiniti',\n",
    "       'Make_Kia', 'Make_Land Rover', 'Make_Lexus', 'Make_Lincoln',\n",
    "       'Make_Lotus', 'Make_Maserati', 'Make_Mazda', 'Make_Mercedes-Benz',\n",
    "       'Make_Mitsubishi', 'Make_Nissan', 'Make_Oldsmobile',\n",
    "       'Make_Plymouth', 'Make_Pontiac', 'Make_Porsche', 'Make_Saab',\n",
    "       'Make_Scion', 'Make_Subaru', 'Make_Suzuki', 'Make_Toyota',\n",
    "       'Make_Volkswagen', 'Make_Volvo'])\n",
    "\n"
   ]
  },
  {
   "cell_type": "markdown",
   "id": "1374bdd9",
   "metadata": {},
   "source": [
    "# When comparing the uncleaned dataset and the original dataset we can see that there is significant improvement to the R^2 Score\n",
    "\n",
    "\n",
    "# With the conversion of categorical variables using get_dummies(), the r^2 score is significantly improved. Additionally, we can see that when the features are used individually, the R^2 value is very low. However, when they are all combined, the R^2 value is greatly increased (From 0% to 60% to 80%-90%)"
   ]
  },
  {
   "cell_type": "code",
   "execution_count": null,
   "id": "8b2f1c35",
   "metadata": {},
   "outputs": [],
   "source": []
  }
 ],
 "metadata": {
  "kernelspec": {
   "display_name": "Python 3 (ipykernel)",
   "language": "python",
   "name": "python3"
  },
  "language_info": {
   "codemirror_mode": {
    "name": "ipython",
    "version": 3
   },
   "file_extension": ".py",
   "mimetype": "text/x-python",
   "name": "python",
   "nbconvert_exporter": "python",
   "pygments_lexer": "ipython3",
   "version": "3.9.7"
  }
 },
 "nbformat": 4,
 "nbformat_minor": 5
}
